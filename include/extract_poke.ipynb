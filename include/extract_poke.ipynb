{
 "cells": [
  {
   "cell_type": "code",
   "execution_count": 2,
   "metadata": {},
   "outputs": [],
   "source": [
    "import extract\n",
    "import pandas as pd\n",
    "import data_classes as dc"
   ]
  },
  {
   "cell_type": "code",
   "execution_count": 3,
   "metadata": {},
   "outputs": [
    {
     "name": "stdout",
     "output_type": "stream",
     "text": [
      "Current Progress: 20\n",
      "Current Progress: 40\n",
      "Current Progress: 60\n",
      "Current Progress: 80\n",
      "Current Progress: 100\n",
      "Current Progress: 120\n",
      "Current Progress: 140\n",
      "Current Progress: 160\n",
      "Current Progress: 180\n",
      "Current Progress: 200\n",
      "Current Progress: 220\n",
      "Current Progress: 240\n",
      "Current Progress: 260\n",
      "Current Progress: 280\n",
      "Current Progress: 300\n",
      "Current Progress: 320\n",
      "Current Progress: 340\n",
      "Current Progress: 360\n",
      "Current Progress: 380\n",
      "Current Progress: 400\n",
      "Current Progress: 420\n",
      "Current Progress: 440\n",
      "Current Progress: 460\n",
      "Current Progress: 480\n",
      "Current Progress: 500\n",
      "Current Progress: 520\n",
      "Current Progress: 540\n",
      "Current Progress: 560\n",
      "Current Progress: 580\n",
      "Current Progress: 600\n",
      "Current Progress: 620\n",
      "Current Progress: 640\n",
      "Current Progress: 660\n",
      "Current Progress: 680\n",
      "Current Progress: 700\n",
      "Current Progress: 720\n",
      "Current Progress: 740\n",
      "Current Progress: 760\n",
      "Current Progress: 780\n",
      "Current Progress: 800\n",
      "Current Progress: 820\n",
      "Current Progress: 840\n",
      "Current Progress: 860\n",
      "Current Progress: 880\n",
      "Current Progress: 900\n",
      "Current Progress: 920\n",
      "Current Progress: 940\n",
      "Current Progress: 960\n",
      "Current Progress: 980\n",
      "Current Progress: 1000\n",
      "Current Progress: 1020\n",
      "Current Progress: 10015\n",
      "Current Progress: 10035\n",
      "Current Progress: 10055\n",
      "Current Progress: 10075\n",
      "Current Progress: 10095\n",
      "Current Progress: 10115\n",
      "Current Progress: 10135\n",
      "Current Progress: 10155\n",
      "Current Progress: 10175\n",
      "Current Progress: 10195\n",
      "Current Progress: 10215\n",
      "Current Progress: 10235\n",
      "Current Progress: 10255\n",
      "Current Progress: 10275\n",
      "Current Progress: 10277\n"
     ]
    }
   ],
   "source": [
    "data = extract.ApiRequest(f'{extract.BASE_URL}/{extract.POKEMON_ENDPOINTS}').extractData(dataclass_name=dc.Pokemon)"
   ]
  },
  {
   "cell_type": "code",
   "execution_count": 5,
   "metadata": {},
   "outputs": [],
   "source": [
    "df = pd.DataFrame(data)"
   ]
  },
  {
   "cell_type": "code",
   "execution_count": 6,
   "metadata": {},
   "outputs": [],
   "source": [
    "df.to_csv('pokemon.csv')"
   ]
  }
 ],
 "metadata": {
  "kernelspec": {
   "display_name": ".venv",
   "language": "python",
   "name": "python3"
  },
  "language_info": {
   "codemirror_mode": {
    "name": "ipython",
    "version": 3
   },
   "file_extension": ".py",
   "mimetype": "text/x-python",
   "name": "python",
   "nbconvert_exporter": "python",
   "pygments_lexer": "ipython3",
   "version": "3.12.10"
  }
 },
 "nbformat": 4,
 "nbformat_minor": 2
}
